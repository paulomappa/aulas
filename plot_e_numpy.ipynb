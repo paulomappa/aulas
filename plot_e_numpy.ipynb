{
 "cells": [
  {
   "cell_type": "code",
   "execution_count": 1,
   "metadata": {},
   "outputs": [],
   "source": [
    "def desenha(inci,coord):\n",
    "    \"\"\"\n",
    "    Desenha o reticulado a a partir das coordenadas nodais(coord) e \n",
    "    incidências dos lementos(inci)\n",
    "    \"\"\"\n",
    "    import matplotlib.pyplot as plt\n",
    "    for i in inci:\n",
    "        no_inicial = i[0]\n",
    "        no_final = i[1]\n",
    "        xi = coord[no_inicial-1, 0]\n",
    "        xf = coord[no_final-1, 0]\n",
    "        yi = coord[no_inicial-1, 1]\n",
    "        yf = coord[no_final-1, 1]\n",
    "        plt.plot((xi, xf), (yi, yf),'g')\n",
    "    plt.title('Título bem legal!!')\n",
    "    plt.show()"
   ]
  },
  {
   "cell_type": "code",
   "execution_count": 2,
   "metadata": {},
   "outputs": [],
   "source": [
    "import matplotlib.pyplot as plt"
   ]
  },
  {
   "cell_type": "code",
   "execution_count": 3,
   "metadata": {},
   "outputs": [],
   "source": [
    "import numpy as np"
   ]
  },
  {
   "cell_type": "code",
   "execution_count": 4,
   "metadata": {},
   "outputs": [],
   "source": [
    "coord = np.array([[0, 0], [50, 0], [0, 50], [50, 50]], float)"
   ]
  },
  {
   "cell_type": "code",
   "execution_count": 42,
   "metadata": {},
   "outputs": [
    {
     "name": "stdout",
     "output_type": "stream",
     "text": [
      "[[1 2]\n",
      " [3 4]\n",
      " [1 3]\n",
      " [2 4]]\n"
     ]
    }
   ],
   "source": [
    "inci = np.array([[1, 2], [3, 4], [1, 3], [2, 4]], int)\n",
    "print(inci)"
   ]
  },
  {
   "cell_type": "code",
   "execution_count": 43,
   "metadata": {},
   "outputs": [
    {
     "name": "stdout",
     "output_type": "stream",
     "text": [
      "4\n"
     ]
    }
   ],
   "source": [
    "num_ele = len(inci[:, 0])\n",
    "print(num_ele)"
   ]
  },
  {
   "cell_type": "markdown",
   "metadata": {},
   "source": [
    "Observe a seguinte construção:"
   ]
  },
  {
   "cell_type": "code",
   "execution_count": 44,
   "metadata": {},
   "outputs": [
    {
     "name": "stdout",
     "output_type": "stream",
     "text": [
      "[1 2]\n",
      "[3 4]\n",
      "[1 3]\n",
      "[2 4]\n"
     ]
    }
   ],
   "source": [
    "for i in inci:\n",
    "    print (i)"
   ]
  },
  {
   "cell_type": "code",
   "execution_count": 45,
   "metadata": {},
   "outputs": [
    {
     "data": {
      "image/png": "[encoded data removed]",
      "text/plain": [
       "<Figure size 432x288 with 1 Axes>"
      ]
     },
     "metadata": {
      "needs_background": "light"
     },
     "output_type": "display_data"
    }
   ],
   "source": [
    "for i in inci:\n",
    "    no_inicial = i[0]\n",
    "    no_final = i[1]\n",
    "    xi = coord[no_inicial-1, 0]\n",
    "    xf = coord[no_final-1, 0]\n",
    "    yi = coord[no_inicial-1, 1]\n",
    "    yf = coord[no_final-1, 1]\n",
    "    plt.plot((xi, xf), (yi, yf))\n",
    "    "
   ]
  },
  {
   "cell_type": "markdown",
   "metadata": {},
   "source": [
    "Colocando as diagonais...."
   ]
  },
  {
   "cell_type": "code",
   "execution_count": 47,
   "metadata": {},
   "outputs": [],
   "source": [
    "diagonais = np.array([[1, 4], [2, 3]])"
   ]
  },
  {
   "cell_type": "code",
   "execution_count": 48,
   "metadata": {},
   "outputs": [
    {
     "data": {
      "text/plain": [
       "array([[1, 2],\n",
       "       [3, 4],\n",
       "       [1, 3],\n",
       "       [2, 4],\n",
       "       [1, 4],\n",
       "       [2, 3]])"
      ]
     },
     "execution_count": 48,
     "metadata": {},
     "output_type": "execute_result"
    }
   ],
   "source": [
    "inci = np.concatenate((inci,diagonais),axis=0)\n",
    "inci"
   ]
  },
  {
   "cell_type": "code",
   "execution_count": 70,
   "metadata": {},
   "outputs": [
    {
     "data": {
      "image/png": "[encoded data removed]",
      "text/plain": [
       "<Figure size 432x288 with 1 Axes>"
      ]
     },
     "metadata": {
      "needs_background": "light"
     },
     "output_type": "display_data"
    }
   ],
   "source": [
    "desenha(inci,coord)"
   ]
  },
  {
   "cell_type": "code",
   "execution_count": null,
   "metadata": {},
   "outputs": [],
   "source": []
  }
 ],
 "metadata": {
  "kernelspec": {
   "display_name": "Python 3",
   "language": "python",
   "name": "python3"
  },
  "language_info": {
   "codemirror_mode": {
    "name": "ipython",
    "version": 3
   },
   "file_extension": ".py",
   "mimetype": "text/x-python",
   "name": "python",
   "nbconvert_exporter": "python",
   "pygments_lexer": "ipython3",
   "version": "3.6.8"
  }
 },
 "nbformat": 4,
 "nbformat_minor": 2
}
