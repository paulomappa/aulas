{
 "cells": [
  {
   "cell_type": "markdown",
   "metadata": {},
   "source": [
    "# Um pouco sobre Markdown \n",
    "\n",
    "Esse texto tem objetivo de facilitar o uso inical dessa linguagem. **Ainda não está pronto**.  Tem como referência básica [este material]( https://daringfireball.net/projects/markdown/syntax#link).\n",
    "\n",
    "\n",
    "### 1. [O que é](https://pt.wikipedia.org/wiki/Markdown) \n"
   ]
  },
  {
   "cell_type": "markdown",
   "metadata": {},
   "source": [
    "### 2. Títulos\n",
    "Temos seis níveis que são produzidos pela utilização de **#'s** antes do texto.\n",
    " \n",
    "     # nivel 1 \n",
    "produz:\n",
    "# nivel 1\n",
    "\n",
    "temos ainda: \n",
    "\n",
    "     ## nivel 2\n",
    "   até  \n",
    "    ###### nível 6\n",
    "   Experimente produzir:\n",
    "   ## nível 2\n",
    "   ###### nível 6 \n",
    "    \n",
    "    \n"
   ]
  },
  {
   "cell_type": "markdown",
   "metadata": {},
   "source": [
    "### 3.  Links para página da Web:\n",
    "\n",
    "Uma página pode ser acessada assim:\n",
    "\n",
    "    [sobre Markdown]( https://daringfireball.net/projects/markdown/syntax#link)\n",
    "\n",
    "-------    \n",
    "    \n",
    "O que prodizirá:\n",
    "\n",
    "Uma página pode ser acessada assim:\n",
    "\n",
    "[sobre Markdown]( https://daringfireball.net/projects/markdown/syntax#link)"
   ]
  },
  {
   "cell_type": "markdown",
   "metadata": {},
   "source": [
    "### 4. Inserindo uma tabela:\n",
    "\n",
    "A tabela: \n",
    " <table>\n",
    "        <tr>\n",
    "            <td>11</td><td>12</td>\n",
    "        </tr>\n",
    "        <tr>\n",
    "            <td>21</td><td>22</td>\n",
    "        </tr>\n",
    "    </table>\n",
    "    \n",
    "É resultado de :    \n",
    "\n",
    "    <table>\n",
    "        <tr>\n",
    "            <td>11</td><td>12</td>\n",
    "        </tr>\n",
    "        <tr>\n",
    "            <td>21</td><td>22</td>\n",
    "        </tr>\n",
    "    </table>"
   ]
  },
  {
   "cell_type": "markdown",
   "metadata": {},
   "source": [
    "### 5. Recuos\n",
    ">Os Lusíadas é o nome de um poema épico de Luís Vaz de Camões, publicado em 1572. A obra está dividida em 10 cantos, com número variável de estrofes. O tema do poema é a história de Portugal desde os primórdios até o tempo de Camões, com uma narrativa idealizada e alusões frequentes à mitologia e cultura clássica. É, geralmente, considerada a obra maior da literatura portuguesa, quer pela qualidade poética reconhecida, quer pelo sentimento patriótico de que faz testemunho.\n",
    "\n",
    ">> Aqui inseri >>\n",
    "\n",
    "Experimente inserir > antes do parágrafo. Assim:\n",
    "\n",
    "    > Os Lusíadas é o nome de um poema épico de Luís Vaz de Camões, publicado em 1572. A obra está dividida em 10 cantos, com número variável de estrofes. O tema do poema é a história de Portugal desde os primórdios até o tempo de Camões, com uma narrativa idealizada e alusões frequentes à mitologia e cultura clássica. É, geralmente, considerada a obra maior da literatura portuguesa, quer pela qualidade poética reconhecida, quer pelo sentimento patriótico de que faz testemunho. \n",
    "    \n",
    "    >> Aqui inseri >>"
   ]
  },
  {
   "cell_type": "markdown",
   "metadata": {},
   "source": [
    "### 6. Imagens:\n",
    "\n",
    "![Alt text](f1.png )"
   ]
  },
  {
   "cell_type": "markdown",
   "metadata": {},
   "source": [
    " ### 7.  Lista de ítens:\n",
    " \n",
    " Digite:\n",
    " \n",
    "    1. Primeiro item;\n",
    "    2. Segundo item.\n",
    " Para Produzir:\n",
    "\n",
    "1. Primeiro item;\n",
    "2. Segundo item.\n",
    "\n",
    "ou:\n",
    "    * Primeiro item;\n",
    "     * Segundo item;\n",
    "       * terceiro.\n",
    "para:\n",
    "* Primeiro item;\n",
    " *  Segundo item;\n",
    "   * terceiro.\n",
    "\n",
    "   \n"
   ]
  },
  {
   "cell_type": "markdown",
   "metadata": {},
   "source": [
    "### 8. Realçes:\n",
    "\n",
    "-------\n",
    "\n",
    "    *ateriscos simples*\n",
    "*ateriscos simples*\n",
    "\n",
    "    _underscor simples_\n",
    "_underscor simples_  \n",
    "\n",
    "    **duplo asterisco**\n",
    "**duplo asterisco**\n",
    "\n",
    "    __duplo underscor\n",
    "__duplo underscor__\n",
    "\n",
    "\\*Se quiser escrever asterisco use assim:\\*\n",
    "\n",
    "    \\*Se quiser escrever asterisco use assim:\\*\n",
    "\n",
    "-------"
   ]
  },
  {
   "cell_type": "markdown",
   "metadata": {},
   "source": [
    "## Videos:\n",
    "\n",
    "[[embed url=http://www.youtube.com/watch?v=6YbBmqUnoQM]]"
   ]
  },
  {
   "cell_type": "markdown",
   "metadata": {},
   "source": []
  },
  {
   "cell_type": "markdown",
   "metadata": {},
   "source": [
    "http://images.google.com/images?num=30&amp;q=larry+bird"
   ]
  },
  {
   "cell_type": "markdown",
   "metadata": {},
   "source": [
    "Abrindo uma apresentação feita no Inkscape e Sozi no Jupyter:\n",
    "[como será visto](/files/aula1.svg).\n",
    "Observar que aula1.svg está no diretório corrente."
   ]
  },
  {
   "cell_type": "code",
   "execution_count": null,
   "metadata": {},
   "outputs": [],
   "source": []
  }
 ],
 "metadata": {
  "kernelspec": {
   "display_name": "Python 3",
   "language": "python",
   "name": "python3"
  },
  "language_info": {
   "codemirror_mode": {
    "name": "ipython",
    "version": 3
   },
   "file_extension": ".py",
   "mimetype": "text/x-python",
   "name": "python",
   "nbconvert_exporter": "python",
   "pygments_lexer": "ipython3",
   "version": "3.6.8"
  }
 },
 "nbformat": 4,
 "nbformat_minor": 2
}
